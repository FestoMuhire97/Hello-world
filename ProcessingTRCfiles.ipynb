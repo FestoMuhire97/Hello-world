{
 "cells": [
  {
   "cell_type": "code",
   "execution_count": null,
   "metadata": {},
   "outputs": [],
   "source": [
    "import os\n",
    "import glob\n",
    "import csv\n",
    "import shutil"
   ]
  },
  {
   "cell_type": "code",
   "execution_count": 93,
   "metadata": {},
   "outputs": [],
   "source": [
    "\n",
    "# specify source directory\n",
    "source_directory = \"C:/Program Files (x86)/HAMILTON/LogFiles\"\n",
    "\n",
    "# specify destination directory\n",
    "destination_directory = \"C:/Program Files (x86)/HAMILTON/LogFiles/path_trc\"\n",
    "\n",
    "# Get a list of all files in the source directory\n",
    "files = glob.glob(source_directory + '/*')\n",
    "\n",
    "for file in files:\n",
    "    if file.endswith('Trace.trc'):\n",
    "        shutil.copy(file, destination_directory)\n",
    "        \n",
    "os.listdir(destination_directory)\n",
    "\n",
    "# Creating a .csv file for details:\n",
    "with open('Method_Output.csv', 'w', newline='') as file_Method:\n",
    "    writer = csv.writer(file_Method)\n",
    "    field = ['Start Time', 'Date', 'Method Name', 'End Time', 'Time Elapsed']\n",
    "    writer.writerow(field)\n",
    "\n",
    "\n",
    "# looking in the Trace files:\n",
    "files_trace = glob.glob(destination_directory + '/*')\n",
    "for file in files_trace:\n",
    "    with open(file, 'r') as trc_file:\n",
    "        for line in trc_file:\n",
    "            if 'Analyze method - start' in line:\n",
    "                method_start_line = line.split(\"\\\\\")\n",
    "                #Outputs Method name\n",
    "                method_name = (method_start_line[-1]).replace('\\n','').replace('hsl','med')\n",
    "                #Outputs Method date and time\n",
    "                method_date_time = (method_start_line[0]).split('>')\n",
    "                method_date_time = method_date_time[0].split(\" \")\n",
    "                #outputs Method date\n",
    "                method_date = method_date_time[0]\n",
    "                #outputs Method time\n",
    "                method_time = method_date_time[1]\n",
    "            \n",
    "            #checking for Time elapsed running the method:\n",
    "            if 'checksum' in line:\n",
    "                final_method_date_time = line.split('>')\n",
    "                final_method_date_time = final_method_date_time[0].split(' ')\n",
    "                #outputs final time\n",
    "                final_method_time = final_method_date_time[1]\n",
    "                \n",
    "            #Exporting the Method details into a .csv file.\n",
    "                with open('Method_Output.csv', 'a', newline='') as file_Method:\n",
    "                    writer = csv.writer(file_Method)\n",
    "                    writer.writerow([method_time, method_date, method_name,final_method_time])"
   ]
  }
 ],
 "metadata": {
  "kernelspec": {
   "display_name": "Python 3",
   "language": "python",
   "name": "python3"
  },
  "language_info": {
   "codemirror_mode": {
    "name": "ipython",
    "version": 3
   },
   "file_extension": ".py",
   "mimetype": "text/x-python",
   "name": "python",
   "nbconvert_exporter": "python",
   "pygments_lexer": "ipython3",
   "version": "3.11.4"
  },
  "orig_nbformat": 4
 },
 "nbformat": 4,
 "nbformat_minor": 2
}
